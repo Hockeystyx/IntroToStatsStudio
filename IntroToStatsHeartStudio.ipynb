{
    "metadata": {
        "kernelspec": {
            "name": "python3",
            "display_name": "Python 3 (ipykernel)",
            "language": "python"
        },
        "language_info": {
            "name": "python",
            "version": "3.11.1",
            "mimetype": "text/x-python",
            "codemirror_mode": {
                "name": "ipython",
                "version": 3
            },
            "pygments_lexer": "ipython3",
            "nbconvert_exporter": "python",
            "file_extension": ".py"
        }
    },
    "nbformat_minor": 2,
    "nbformat": 4,
    "cells": [
        {
            "cell_type": "markdown",
            "source": [
                "## Introduction to Stats in Python Studio\n",
                "\n",
                "We are going to be working with this [dataset](https://www.kaggle.com/andrewmvd/heart-failure-clinical-data) from Kaggle.  No need to download, as it is included in the git repository you just cloned.\n",
                "<br>\n",
                "\n",
                "Heart Disease is the number 1 cause of death globally, taking an estimated 17.9 million lives each year, which accounts for 31% of all deaths worldwide.\n",
                "<br>\n",
                "\n",
                "Heart failure is a common event caused by heart disease and this dataset contains 12 features that can be used to predict mortality by heart failure. You are tasked to look at two particular variables and record your observations about their usefulness for predicting the probability of heart failure.\n",
                "<br>\n",
                "\n",
                "In section one, you will be asked to run some simple EDA and apply statistical terminology to describe each variable in more detail.  Section two will explore what the distribution of your variables looks like. Finally, in section three you will be asked to make some inferences about your variables and if you feel they are good indicators of predicting heart failure.\n",
                "<br>\n",
                "\n",
                "Answer the questions and record your observations in the space provided. Feel free to add more code blocks if you'd like.\n",
                "<br>\n",
                "\n"
            ],
            "metadata": {
                "azdata_cell_guid": "e3be720f-fa49-4fc0-a50b-82314ae6a1f9"
            }
        },
        {
            "cell_type": "raw",
            "source": [
                "Description of Data:\n",
                "\n",
                "Sex - Gender of patient Male = 1, Female =0\n",
                "Age - Age of patient\n",
                "Diabetes - 0 = No, 1 = Yes\n",
                "Anaemia - 0 = No, 1 = Yes\n",
                "High_blood_pressure - 0 = No, 1 = Yes\n",
                "Smoking - 0 = No, 1 = Yes\n",
                "DEATH_EVENT - 0 = No, 1 = Yes\n",
                "\n"
            ],
            "metadata": {
                "azdata_cell_guid": "422bfe55-22e0-4a95-a549-1dea41fdf1c8"
            }
        },
        {
            "cell_type": "code",
            "source": [
                "# Import libries need with alias\n",
                "import pandas as pd\n",
                "import matplotlib.pyplot as plt\n",
                "import seaborn as sns\n",
                "import numpy as np\n",
                "%matplotlib inline\n",
                "\n",
                "# Suppress warnings\n",
                "import warnings\n",
                "warnings.filterwarnings('ignore')\n",
                "\n",
                "\n",
                "# Set style and font size\n",
                "sns.set_style('darkgrid')\n",
                "sns.set(font_scale=1.5)"
            ],
            "metadata": {
                "azdata_cell_guid": "458c7331-8c28-456d-b162-aa73a1f9c31b",
                "language": "python"
            },
            "outputs": [],
            "execution_count": 1
        },
        {
            "cell_type": "code",
            "source": [
                "# Read in data to a dataframe\n",
                "df = pd.read_csv('heart3.csv')"
            ],
            "metadata": {
                "azdata_cell_guid": "3d1bf09c-d199-435f-bb04-2a48f2e6142b",
                "language": "python",
                "tags": []
            },
            "outputs": [],
            "execution_count": 7
        },
        {
            "cell_type": "markdown",
            "source": [
                "## Section 1: First look at the data:\n",
                "\n",
                "Run some simple EDA and look at the data and your variables. Answer the following questions."
            ],
            "metadata": {
                "azdata_cell_guid": "ba91342b-a62e-4446-bb3f-9ebf0462a224"
            }
        },
        {
            "cell_type": "code",
            "source": [
                "df.describe()"
            ],
            "metadata": {
                "azdata_cell_guid": "112f9e97-f587-4fdb-b58a-1bf15bb37942",
                "language": "python"
            },
            "outputs": [
                {
                    "data": {
                        "text/plain": "              age     anaemia  creatinine_phosphokinase    diabetes  \\\ncount  299.000000  299.000000                299.000000  299.000000   \nmean    60.833893    0.431438                581.839465    0.418060   \nstd     11.894809    0.496107                970.287881    0.494067   \nmin     40.000000    0.000000                 23.000000    0.000000   \n25%     51.000000    0.000000                116.500000    0.000000   \n50%     60.000000    0.000000                250.000000    0.000000   \n75%     70.000000    1.000000                582.000000    1.000000   \nmax     95.000000    1.000000               7861.000000    1.000000   \n\n       ejection_fraction  high_blood_pressure      platelets  \\\ncount         299.000000           299.000000     299.000000   \nmean           38.083612             0.351171  263358.029264   \nstd            11.834841             0.478136   97804.236869   \nmin            14.000000             0.000000   25100.000000   \n25%            30.000000             0.000000  212500.000000   \n50%            38.000000             0.000000  262000.000000   \n75%            45.000000             1.000000  303500.000000   \nmax            80.000000             1.000000  850000.000000   \n\n       serum_creatinine  serum_sodium         sex    smoking        time  \\\ncount         299.00000    299.000000  299.000000  299.00000  299.000000   \nmean            1.39388    136.625418    0.648829    0.32107  130.260870   \nstd             1.03451      4.412477    0.478136    0.46767   77.614208   \nmin             0.50000    113.000000    0.000000    0.00000    4.000000   \n25%             0.90000    134.000000    0.000000    0.00000   73.000000   \n50%             1.10000    137.000000    1.000000    0.00000  115.000000   \n75%             1.40000    140.000000    1.000000    1.00000  203.000000   \nmax             9.40000    148.000000    1.000000    1.00000  285.000000   \n\n       DEATH_EVENT  \ncount    299.00000  \nmean       0.32107  \nstd        0.46767  \nmin        0.00000  \n25%        0.00000  \n50%        0.00000  \n75%        1.00000  \nmax        1.00000  ",
                        "text/html": "<div>\n<style scoped>\n    .dataframe tbody tr th:only-of-type {\n        vertical-align: middle;\n    }\n\n    .dataframe tbody tr th {\n        vertical-align: top;\n    }\n\n    .dataframe thead th {\n        text-align: right;\n    }\n</style>\n<table border=\"1\" class=\"dataframe\">\n  <thead>\n    <tr style=\"text-align: right;\">\n      <th></th>\n      <th>age</th>\n      <th>anaemia</th>\n      <th>creatinine_phosphokinase</th>\n      <th>diabetes</th>\n      <th>ejection_fraction</th>\n      <th>high_blood_pressure</th>\n      <th>platelets</th>\n      <th>serum_creatinine</th>\n      <th>serum_sodium</th>\n      <th>sex</th>\n      <th>smoking</th>\n      <th>time</th>\n      <th>DEATH_EVENT</th>\n    </tr>\n  </thead>\n  <tbody>\n    <tr>\n      <th>count</th>\n      <td>299.000000</td>\n      <td>299.000000</td>\n      <td>299.000000</td>\n      <td>299.000000</td>\n      <td>299.000000</td>\n      <td>299.000000</td>\n      <td>299.000000</td>\n      <td>299.00000</td>\n      <td>299.000000</td>\n      <td>299.000000</td>\n      <td>299.00000</td>\n      <td>299.000000</td>\n      <td>299.00000</td>\n    </tr>\n    <tr>\n      <th>mean</th>\n      <td>60.833893</td>\n      <td>0.431438</td>\n      <td>581.839465</td>\n      <td>0.418060</td>\n      <td>38.083612</td>\n      <td>0.351171</td>\n      <td>263358.029264</td>\n      <td>1.39388</td>\n      <td>136.625418</td>\n      <td>0.648829</td>\n      <td>0.32107</td>\n      <td>130.260870</td>\n      <td>0.32107</td>\n    </tr>\n    <tr>\n      <th>std</th>\n      <td>11.894809</td>\n      <td>0.496107</td>\n      <td>970.287881</td>\n      <td>0.494067</td>\n      <td>11.834841</td>\n      <td>0.478136</td>\n      <td>97804.236869</td>\n      <td>1.03451</td>\n      <td>4.412477</td>\n      <td>0.478136</td>\n      <td>0.46767</td>\n      <td>77.614208</td>\n      <td>0.46767</td>\n    </tr>\n    <tr>\n      <th>min</th>\n      <td>40.000000</td>\n      <td>0.000000</td>\n      <td>23.000000</td>\n      <td>0.000000</td>\n      <td>14.000000</td>\n      <td>0.000000</td>\n      <td>25100.000000</td>\n      <td>0.50000</td>\n      <td>113.000000</td>\n      <td>0.000000</td>\n      <td>0.00000</td>\n      <td>4.000000</td>\n      <td>0.00000</td>\n    </tr>\n    <tr>\n      <th>25%</th>\n      <td>51.000000</td>\n      <td>0.000000</td>\n      <td>116.500000</td>\n      <td>0.000000</td>\n      <td>30.000000</td>\n      <td>0.000000</td>\n      <td>212500.000000</td>\n      <td>0.90000</td>\n      <td>134.000000</td>\n      <td>0.000000</td>\n      <td>0.00000</td>\n      <td>73.000000</td>\n      <td>0.00000</td>\n    </tr>\n    <tr>\n      <th>50%</th>\n      <td>60.000000</td>\n      <td>0.000000</td>\n      <td>250.000000</td>\n      <td>0.000000</td>\n      <td>38.000000</td>\n      <td>0.000000</td>\n      <td>262000.000000</td>\n      <td>1.10000</td>\n      <td>137.000000</td>\n      <td>1.000000</td>\n      <td>0.00000</td>\n      <td>115.000000</td>\n      <td>0.00000</td>\n    </tr>\n    <tr>\n      <th>75%</th>\n      <td>70.000000</td>\n      <td>1.000000</td>\n      <td>582.000000</td>\n      <td>1.000000</td>\n      <td>45.000000</td>\n      <td>1.000000</td>\n      <td>303500.000000</td>\n      <td>1.40000</td>\n      <td>140.000000</td>\n      <td>1.000000</td>\n      <td>1.00000</td>\n      <td>203.000000</td>\n      <td>1.00000</td>\n    </tr>\n    <tr>\n      <th>max</th>\n      <td>95.000000</td>\n      <td>1.000000</td>\n      <td>7861.000000</td>\n      <td>1.000000</td>\n      <td>80.000000</td>\n      <td>1.000000</td>\n      <td>850000.000000</td>\n      <td>9.40000</td>\n      <td>148.000000</td>\n      <td>1.000000</td>\n      <td>1.00000</td>\n      <td>285.000000</td>\n      <td>1.00000</td>\n    </tr>\n  </tbody>\n</table>\n</div>"
                    },
                    "metadata": {},
                    "execution_count": 9,
                    "output_type": "execute_result"
                }
            ],
            "execution_count": 9
        },
        {
            "cell_type": "code",
            "source": [
                "df.info()"
            ],
            "metadata": {
                "azdata_cell_guid": "9386394b-5882-4d59-9f72-cc16f4e46ffe",
                "language": "python"
            },
            "outputs": [
                {
                    "name": "stdout",
                    "text": "<class 'pandas.core.frame.DataFrame'>\nRangeIndex: 299 entries, 0 to 298\nData columns (total 13 columns):\n #   Column                    Non-Null Count  Dtype  \n---  ------                    --------------  -----  \n 0   age                       299 non-null    float64\n 1   anaemia                   299 non-null    int64  \n 2   creatinine_phosphokinase  299 non-null    int64  \n 3   diabetes                  299 non-null    int64  \n 4   ejection_fraction         299 non-null    int64  \n 5   high_blood_pressure       299 non-null    int64  \n 6   platelets                 299 non-null    float64\n 7   serum_creatinine          299 non-null    float64\n 8   serum_sodium              299 non-null    int64  \n 9   sex                       299 non-null    int64  \n 10  smoking                   299 non-null    int64  \n 11  time                      299 non-null    int64  \n 12  DEATH_EVENT               299 non-null    int64  \ndtypes: float64(3), int64(10)\nmemory usage: 30.5 KB\n",
                    "output_type": "stream"
                }
            ],
            "execution_count": 10
        },
        {
            "cell_type": "code",
            "source": [
                "df[['DEATH_EVENT', 'smoking', 'sex', 'age']].groupby(['smoking', 'sex']).describe()"
            ],
            "metadata": {
                "language": "python",
                "azdata_cell_guid": "9caacafe-983e-4d69-8eda-b68b2405d258"
            },
            "outputs": [
                {
                    "data": {
                        "text/plain": "            DEATH_EVENT                                                  age  \\\n                  count      mean       std  min   25%  50%  75%  max  count   \nsmoking sex                                                                    \n0       0         101.0  0.306931  0.463521  0.0  0.00  0.0  1.0  1.0  101.0   \n        1         102.0  0.343137  0.477101  0.0  0.00  0.0  1.0  1.0  102.0   \n1       0           4.0  0.750000  0.500000  0.0  0.75  1.0  1.0  1.0    4.0   \n        1          92.0  0.293478  0.457851  0.0  0.00  0.0  1.0  1.0   92.0   \n\n                                                                 \n                  mean        std   min   25%   50%   75%   max  \nsmoking sex                                                      \n0       0    59.650168  11.309325  40.0  50.0  60.0  65.0  95.0  \n        1    61.702618  12.917774  40.0  51.5  60.0  70.0  95.0  \n1       0    63.000000  10.132456  50.0  57.5  65.0  70.5  72.0  \n        1    61.076087  11.468288  40.0  52.0  60.0  70.0  90.0  ",
                        "text/html": "<div>\n<style scoped>\n    .dataframe tbody tr th:only-of-type {\n        vertical-align: middle;\n    }\n\n    .dataframe tbody tr th {\n        vertical-align: top;\n    }\n\n    .dataframe thead tr th {\n        text-align: left;\n    }\n\n    .dataframe thead tr:last-of-type th {\n        text-align: right;\n    }\n</style>\n<table border=\"1\" class=\"dataframe\">\n  <thead>\n    <tr>\n      <th></th>\n      <th></th>\n      <th colspan=\"8\" halign=\"left\">DEATH_EVENT</th>\n      <th colspan=\"8\" halign=\"left\">age</th>\n    </tr>\n    <tr>\n      <th></th>\n      <th></th>\n      <th>count</th>\n      <th>mean</th>\n      <th>std</th>\n      <th>min</th>\n      <th>25%</th>\n      <th>50%</th>\n      <th>75%</th>\n      <th>max</th>\n      <th>count</th>\n      <th>mean</th>\n      <th>std</th>\n      <th>min</th>\n      <th>25%</th>\n      <th>50%</th>\n      <th>75%</th>\n      <th>max</th>\n    </tr>\n    <tr>\n      <th>smoking</th>\n      <th>sex</th>\n      <th></th>\n      <th></th>\n      <th></th>\n      <th></th>\n      <th></th>\n      <th></th>\n      <th></th>\n      <th></th>\n      <th></th>\n      <th></th>\n      <th></th>\n      <th></th>\n      <th></th>\n      <th></th>\n      <th></th>\n      <th></th>\n    </tr>\n  </thead>\n  <tbody>\n    <tr>\n      <th rowspan=\"2\" valign=\"top\">0</th>\n      <th>0</th>\n      <td>101.0</td>\n      <td>0.306931</td>\n      <td>0.463521</td>\n      <td>0.0</td>\n      <td>0.00</td>\n      <td>0.0</td>\n      <td>1.0</td>\n      <td>1.0</td>\n      <td>101.0</td>\n      <td>59.650168</td>\n      <td>11.309325</td>\n      <td>40.0</td>\n      <td>50.0</td>\n      <td>60.0</td>\n      <td>65.0</td>\n      <td>95.0</td>\n    </tr>\n    <tr>\n      <th>1</th>\n      <td>102.0</td>\n      <td>0.343137</td>\n      <td>0.477101</td>\n      <td>0.0</td>\n      <td>0.00</td>\n      <td>0.0</td>\n      <td>1.0</td>\n      <td>1.0</td>\n      <td>102.0</td>\n      <td>61.702618</td>\n      <td>12.917774</td>\n      <td>40.0</td>\n      <td>51.5</td>\n      <td>60.0</td>\n      <td>70.0</td>\n      <td>95.0</td>\n    </tr>\n    <tr>\n      <th rowspan=\"2\" valign=\"top\">1</th>\n      <th>0</th>\n      <td>4.0</td>\n      <td>0.750000</td>\n      <td>0.500000</td>\n      <td>0.0</td>\n      <td>0.75</td>\n      <td>1.0</td>\n      <td>1.0</td>\n      <td>1.0</td>\n      <td>4.0</td>\n      <td>63.000000</td>\n      <td>10.132456</td>\n      <td>50.0</td>\n      <td>57.5</td>\n      <td>65.0</td>\n      <td>70.5</td>\n      <td>72.0</td>\n    </tr>\n    <tr>\n      <th>1</th>\n      <td>92.0</td>\n      <td>0.293478</td>\n      <td>0.457851</td>\n      <td>0.0</td>\n      <td>0.00</td>\n      <td>0.0</td>\n      <td>1.0</td>\n      <td>1.0</td>\n      <td>92.0</td>\n      <td>61.076087</td>\n      <td>11.468288</td>\n      <td>40.0</td>\n      <td>52.0</td>\n      <td>60.0</td>\n      <td>70.0</td>\n      <td>90.0</td>\n    </tr>\n  </tbody>\n</table>\n</div>"
                    },
                    "metadata": {},
                    "execution_count": 12,
                    "output_type": "execute_result"
                }
            ],
            "execution_count": 12
        },
        {
            "cell_type": "markdown",
            "source": [
                "Which of our columns are catogorical data?\n",
                "\n",
                "None of them- they are all numbers, except for the labels.    \n",
                "  \n",
                "  \n",
                "Which of our columns are continuous?  \n",
                "  \n",
                "All of them - as the data could change by factors of polling, or trends in lifestyle over time."
            ],
            "metadata": {
                "azdata_cell_guid": "896980b9-4b1c-400f-8db1-608e88213fa9"
            },
            "attachments": {}
        },
        {
            "cell_type": "code",
            "source": [],
            "metadata": {
                "scrolled": true,
                "azdata_cell_guid": "09f40e8e-79bb-4a90-8bf2-58c540013b1d",
                "language": "python"
            },
            "outputs": [],
            "execution_count": null
        },
        {
            "cell_type": "markdown",
            "source": [
                "### Statistical interpretation of our data?\n",
                "\n",
                "#### First Variable:  Death Event\n",
                "\n",
                "Mean, Min, Max, STD? Describe what this means.\n",
                "\n",
                "FEMALE: <span style=\"font-size: 12px;\">0.306931 (average death event by smoking)&nbsp; Min= 0 , Max =&nbsp;</span> \n",
                "\n",
                "Second Variable: Smoking  \n",
                "\n",
                "Mean, Min, Max, STD? Describe what this means.\n",
                "\n",
                "What could the numbers in our categorical data tell us?\n",
                "\n",
                "Why might we want to keep our categorical data as 1's and 0's? Why may we want to use something like the code below to change it?"
            ],
            "metadata": {
                "azdata_cell_guid": "14a98e85-4f5a-4c58-8051-87c8b7a0a2b4"
            },
            "attachments": {}
        },
        {
            "cell_type": "code",
            "source": [
                "df['sex'] = df.sex.replace({1: \"Male\", 0: \"Female\"})\n",
                "df['anaemia'] = df.anaemia.replace({1: \"Yes\", 0: \"No\"})\n",
                "df['diabetes'] = df.diabetes.replace({1: \"Yes\", 0: \"No\"})\n",
                "df['high_blood_pressure'] = df.high_blood_pressure.replace({1: \"Yes\", 0: \"No\"})\n",
                "df['smoking'] = df.smoking.replace({1: \"Yes\", 0: \"No\"})\n",
                "\n",
                "df['DEATH_EVENT'] = df.DEATH_EVENT.replace({1: \"Died\", 0: \"Alive\"})"
            ],
            "metadata": {
                "azdata_cell_guid": "ac6f0851-84f4-47af-a703-0c222c0e872d",
                "language": "python",
                "tags": []
            },
            "outputs": [
                {
                    "traceback": [
                        "\u001b[1;31m---------------------------------------------------------------------------\u001b[0m",
                        "\u001b[1;31mAttributeError\u001b[0m                            Traceback (most recent call last)",
                        "Cell \u001b[1;32mIn[30], line 1\u001b[0m\n\u001b[1;32m----> 1\u001b[0m df[\u001b[38;5;124m'\u001b[39m\u001b[38;5;124msex\u001b[39m\u001b[38;5;124m'\u001b[39m] \u001b[38;5;241m=\u001b[39m \u001b[43mdf\u001b[49m\u001b[38;5;241;43m.\u001b[39;49m\u001b[43msex\u001b[49m\u001b[38;5;241m.\u001b[39mreplace({\u001b[38;5;241m1\u001b[39m: \u001b[38;5;124m\"\u001b[39m\u001b[38;5;124mMale\u001b[39m\u001b[38;5;124m\"\u001b[39m, \u001b[38;5;241m0\u001b[39m: \u001b[38;5;124m\"\u001b[39m\u001b[38;5;124mFemale\u001b[39m\u001b[38;5;124m\"\u001b[39m})\n\u001b[0;32m      2\u001b[0m df[\u001b[38;5;124m'\u001b[39m\u001b[38;5;124manaemia\u001b[39m\u001b[38;5;124m'\u001b[39m] \u001b[38;5;241m=\u001b[39m df\u001b[38;5;241m.\u001b[39manaemia\u001b[38;5;241m.\u001b[39mreplace({\u001b[38;5;241m1\u001b[39m: \u001b[38;5;124m\"\u001b[39m\u001b[38;5;124mYes\u001b[39m\u001b[38;5;124m\"\u001b[39m, \u001b[38;5;241m0\u001b[39m: \u001b[38;5;124m\"\u001b[39m\u001b[38;5;124mNo\u001b[39m\u001b[38;5;124m\"\u001b[39m})\n\u001b[0;32m      3\u001b[0m df[\u001b[38;5;124m'\u001b[39m\u001b[38;5;124mdiabetes\u001b[39m\u001b[38;5;124m'\u001b[39m] \u001b[38;5;241m=\u001b[39m df\u001b[38;5;241m.\u001b[39mdiabetes\u001b[38;5;241m.\u001b[39mreplace({\u001b[38;5;241m1\u001b[39m: \u001b[38;5;124m\"\u001b[39m\u001b[38;5;124mYes\u001b[39m\u001b[38;5;124m\"\u001b[39m, \u001b[38;5;241m0\u001b[39m: \u001b[38;5;124m\"\u001b[39m\u001b[38;5;124mNo\u001b[39m\u001b[38;5;124m\"\u001b[39m})\n",
                        "\u001b[1;31mAttributeError\u001b[0m: 'Axes' object has no attribute 'sex'"
                    ],
                    "ename": "AttributeError",
                    "evalue": "'Axes' object has no attribute 'sex'",
                    "output_type": "error"
                }
            ],
            "execution_count": 30
        },
        {
            "cell_type": "markdown",
            "source": [
                "## Section 2: Distribution of our data:"
            ],
            "metadata": {
                "azdata_cell_guid": "6f476d16-8736-4cd7-8680-974982de8cec"
            }
        },
        {
            "cell_type": "code",
            "source": [
                "# Plot the distribution of your variable using distplot\n",
                "\n",
                "smoking1=df['smoking'].dropna()\n",
                "sns.distplot('smoking','sex',kde=True)\n",
                "plt.show()"
            ],
            "metadata": {
                "azdata_cell_guid": "c6f250ef-f102-4b95-9266-103f81f42e19",
                "language": "python"
            },
            "outputs": [
                {
                    "traceback": [
                        "\u001b[1;31m---------------------------------------------------------------------------\u001b[0m",
                        "\u001b[1;31mTypeError\u001b[0m                                 Traceback (most recent call last)",
                        "Cell \u001b[1;32mIn[34], line 3\u001b[0m\n\u001b[0;32m      1\u001b[0m \u001b[38;5;66;03m# Plot the distribution of your variable using distplot\u001b[39;00m\n\u001b[1;32m----> 3\u001b[0m smoking1\u001b[38;5;241m=\u001b[39m\u001b[43mdf\u001b[49m\u001b[43m[\u001b[49m\u001b[38;5;124;43m'\u001b[39;49m\u001b[38;5;124;43msmoking\u001b[39;49m\u001b[38;5;124;43m'\u001b[39;49m\u001b[43m]\u001b[49m\u001b[38;5;241m.\u001b[39mdropna()\n\u001b[0;32m      4\u001b[0m sns\u001b[38;5;241m.\u001b[39mdistplot(\u001b[38;5;124m'\u001b[39m\u001b[38;5;124msmoking\u001b[39m\u001b[38;5;124m'\u001b[39m,\u001b[38;5;124m'\u001b[39m\u001b[38;5;124msex\u001b[39m\u001b[38;5;124m'\u001b[39m,kde\u001b[38;5;241m=\u001b[39m\u001b[38;5;28;01mTrue\u001b[39;00m)\n\u001b[0;32m      5\u001b[0m plt\u001b[38;5;241m.\u001b[39mshow()\n",
                        "\u001b[1;31mTypeError\u001b[0m: 'Axes' object is not subscriptable"
                    ],
                    "ename": "TypeError",
                    "evalue": "'Axes' object is not subscriptable",
                    "output_type": "error"
                }
            ],
            "execution_count": 34
        },
        {
            "cell_type": "code",
            "source": [
                "# Create boxplot to show distribution of variable\n"
            ],
            "metadata": {
                "azdata_cell_guid": "bf9fcd52-e4e7-4e02-8b9d-d05ffeb88b5d",
                "language": "python"
            },
            "outputs": [],
            "execution_count": null
        },
        {
            "cell_type": "code",
            "source": [
                "# Feel free to add any additional graphs that help you answer the questions below."
            ],
            "metadata": {
                "azdata_cell_guid": "024dbe01-59e8-4ee7-9120-13ac497df4ef",
                "language": "python"
            },
            "outputs": [],
            "execution_count": null
        },
        {
            "cell_type": "code",
            "source": [
                "# Another way to check the skewness of our variable\n",
                "df['variable'].skew()"
            ],
            "metadata": {
                "azdata_cell_guid": "6a3c2733-537e-4c47-9201-123cd660aa8f",
                "language": "python"
            },
            "outputs": [],
            "execution_count": null
        },
        {
            "cell_type": "code",
            "source": [
                "# Another way to check the kurtosis of our variable\n",
                "df['variable'].kurtosis()"
            ],
            "metadata": {
                "azdata_cell_guid": "8ae5789b-5d8c-4da3-aa28-d8cc9b116d6c",
                "language": "python"
            },
            "outputs": [],
            "execution_count": null
        },
        {
            "cell_type": "markdown",
            "source": [
                "### Interpretation of how our data is distributed by variable?\n",
                "Looking at the above graphs, what can you tell about the distribution of your variables?\n",
                "<br><br><br><br><br>\n",
                "What is the skewness and kurtosis of your variables.  What does this mean?<br>\n",
                "<br><br><br><br><br>\n",
                "What are some of the differences you note looking at a categorical variable vs a continuous variable?\n",
                "<br><br><br><br><br>"
            ],
            "metadata": {
                "azdata_cell_guid": "52b5dec0-1115-434a-bda3-7a33271a9fb3"
            }
        },
        {
            "cell_type": "markdown",
            "source": [
                "## Section 3: Finding Correlations\n",
                "\n",
                "Lets start by breaking our data into two.  "
            ],
            "metadata": {
                "azdata_cell_guid": "4e99f474-3c29-4604-a7db-dd4607588465"
            }
        },
        {
            "cell_type": "code",
            "source": [
                "# splitting the dataframe into 2 parts\n",
                "# on basis of ‘DEATH_EVENT’ column values\n",
                "df_died = df[df['DEATH_EVENT'] == 1 ]\n",
                "df_lived = df[df['DEATH_EVENT'] == 0 ]"
            ],
            "metadata": {
                "azdata_cell_guid": "ebfe988a-cedc-449a-8997-16f6e9db7bb3",
                "language": "python"
            },
            "outputs": [],
            "execution_count": null
        },
        {
            "cell_type": "code",
            "source": [
                "# Plot your variable based on if they died or lived\n",
                "\n",
                "sns.distplot(df_died['variable'])\n",
                "sns.distplot(df_lived['variable'])\n",
                "plt.title(\"Chances of survival vs Variable\")\n",
                "plt.legend(('Died','Lived'))\n",
                "plt.plot()\n"
            ],
            "metadata": {
                "azdata_cell_guid": "7b897ba7-c5d9-471f-91b4-951dc50188d8",
                "language": "python"
            },
            "outputs": [],
            "execution_count": null
        },
        {
            "cell_type": "code",
            "source": [
                "# Feel free to add any additional graphs that help you answer the questions below."
            ],
            "metadata": {
                "azdata_cell_guid": "9d802cb7-072a-433a-8819-354ce395e77b",
                "language": "python"
            },
            "outputs": [],
            "execution_count": null
        },
        {
            "cell_type": "markdown",
            "source": [
                "#### What things can you infer if we consider our data a sample of the population, based on each of your variables.  \n",
                "<br><br><br><br><br>\n",
                "#### Do you think either of your variables is a good indicator for predicting Heart Failure, why or why not?  \n",
                "<br><br><br><br><br>"
            ],
            "metadata": {
                "azdata_cell_guid": "cda44d9a-f7c0-4b33-be11-316cda5d8988"
            }
        },
        {
            "cell_type": "code",
            "source": [],
            "metadata": {
                "azdata_cell_guid": "bcdbfa23-cf68-4a66-ae71-d67964975543",
                "language": "python"
            },
            "outputs": [],
            "execution_count": null
        }
    ]
}